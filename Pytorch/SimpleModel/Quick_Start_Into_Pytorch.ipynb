{
  "nbformat": 4,
  "nbformat_minor": 0,
  "metadata": {
    "colab": {
      "provenance": [],
      "gpuType": "V28"
    },
    "kernelspec": {
      "name": "python3",
      "display_name": "Python 3"
    },
    "language_info": {
      "name": "python"
    },
    "accelerator": "TPU"
  },
  "cells": [
    {
      "cell_type": "markdown",
      "source": [
        "## Working with Data\n",
        "PyTorch has two primitives to work with data: `torch.utils.data.DataLoader` and `torch.utils.data.Dataset`. Dataset stores the samples and their corresponding `labels`, and `DataLoader` wraps an iterable around the Dataset."
      ],
      "metadata": {
        "id": "w7Mrlj9mXYaO"
      }
    },
    {
      "cell_type": "code",
      "source": [
        "import torch\n",
        "from torch import nn\n",
        "from torch.utils.data import DataLoader\n",
        "from torchvision import datasets\n",
        "from torchvision.transforms import ToTensor\n",
        "\n",
        "\n",
        "print(torch.__version__)"
      ],
      "metadata": {
        "colab": {
          "base_uri": "https://localhost:8080/"
        },
        "id": "7StmqofsXhaW",
        "outputId": "9d2a8617-97b9-4a06-8829-9278c71ae3f1"
      },
      "execution_count": 8,
      "outputs": [
        {
          "output_type": "stream",
          "name": "stdout",
          "text": [
            "2.3.0+cpu\n"
          ]
        }
      ]
    },
    {
      "cell_type": "markdown",
      "source": [
        "PyTorch offers domain-specific libraries such as TorchText, TorchVision, and TorchAudio, all of which include datasets. For this tutorial, we will be using a TorchVision dataset.\n",
        "\n",
        "The torchvision.datasets module contains Dataset objects for many real-world vision data like CIFAR, COCO (full list here). In this tutorial, we use the FashionMNIST dataset. Every TorchVision Dataset includes two arguments: transform and target_transform to modify the samples and labels respectively."
      ],
      "metadata": {
        "id": "x7yLDPngYVaL"
      }
    },
    {
      "cell_type": "code",
      "source": [
        "training_data = datasets.FashionMNIST(\n",
        "    root=\"data\",\n",
        "    train=True,\n",
        "    download = True,\n",
        "    transform= ToTensor(),\n",
        "\n",
        ")\n",
        "\n",
        "test_data = datasets.FashionMNIST(\n",
        "    root=\"data\",\n",
        "    train=False,\n",
        "    download=True,\n",
        "    transform=ToTensor()\n",
        ")"
      ],
      "metadata": {
        "id": "c8pKMZRnYXth"
      },
      "execution_count": 6,
      "outputs": []
    },
    {
      "cell_type": "markdown",
      "source": [
        "We pass the Dataset as an argument to DataLoader. This wraps an iterable over our dataset, and supports automatic batching, sampling, shuffling and multiprocess data loading. Here we define a batch size of 64, i.e. each element in the dataloader iterable will return a batch of 64 features and labels."
      ],
      "metadata": {
        "id": "kPwB6VkSY0CE"
      }
    },
    {
      "cell_type": "code",
      "source": [
        "batch =  64\n",
        "\n",
        "\n",
        "#Create Dataloader\n",
        "train_dataloader = DataLoader(training_data, batch_size=batch)\n",
        "test_dataloader = DataLoader(test_data, batch_size=batch)\n",
        "\n",
        "\n",
        "for X, y in test_dataloader:\n",
        "  print(f\"Shape of X [N, C, H, W]:{X.shape}\")\n",
        "  print(f\"Shape of y {y.shape}\")\n",
        "  break\n",
        "\n",
        "\n",
        "\n"
      ],
      "metadata": {
        "colab": {
          "base_uri": "https://localhost:8080/"
        },
        "id": "u9UTetuuY3Gr",
        "outputId": "84eb6e17-5348-40bc-a535-b0b508026732"
      },
      "execution_count": 10,
      "outputs": [
        {
          "output_type": "stream",
          "name": "stdout",
          "text": [
            "Shape of X [N, C, H, W]:torch.Size([64, 1, 28, 28])\n",
            "Shape of y torch.Size([64])\n"
          ]
        }
      ]
    },
    {
      "cell_type": "markdown",
      "source": [
        "## Creating Models\n",
        "\n",
        "To define a neural network in PyTorch, we create a class that inherits from nn.Module. We define the layers of the network in the `__init__` function and specify how data will pass through the network in the forward function. To accelerate operations in the neural network, we move it to the GPU or MPS if available."
      ],
      "metadata": {
        "id": "81cFSCXsZe85"
      }
    },
    {
      "cell_type": "code",
      "source": [
        "#Get gpu or cpu or mps for training\n",
        "device = (\n",
        "    \"cuda\"\n",
        "    if torch.cuda.is_available()\n",
        "    else \"mps\"\n",
        "    if torch.backends.mps.is_available()\n",
        "    else \"cpu\"\n",
        ")\n",
        "\n",
        "print(f\"Using {device} device\")\n",
        "\n",
        "#Defining a Model\n",
        "class NeuralNetwork(nn.Module):\n",
        "  def __init__(self):\n",
        "    super().__init__()\n",
        "    self.flatten = nn.Flatten()\n",
        "    self.linear_relu_stack = nn.Sequential(\n",
        "        nn.Linear(28*28, 512),\n",
        "        nn.ReLU(),\n",
        "        nn.Linear(512,512),\n",
        "        nn.ReLU(),\n",
        "        nn.Linear(512,10)\n",
        "    )\n",
        "  def forward(self,x):\n",
        "    x = self.flatten(x)\n",
        "    logits = self.linear_relu_stack(x)\n",
        "    return logits\n",
        "\n",
        "model = NeuralNetwork().to(device)\n",
        "print(model)\n"
      ],
      "metadata": {
        "colab": {
          "base_uri": "https://localhost:8080/"
        },
        "id": "wzrF6pDfZkz0",
        "outputId": "acece293-2bc2-42c9-93f9-13f7862963ac"
      },
      "execution_count": 12,
      "outputs": [
        {
          "output_type": "stream",
          "name": "stdout",
          "text": [
            "Using cpu device\n",
            "NeuralNetwork(\n",
            "  (flatten): Flatten(start_dim=1, end_dim=-1)\n",
            "  (linear_relu_stack): Sequential(\n",
            "    (0): Linear(in_features=784, out_features=512, bias=True)\n",
            "    (1): ReLU()\n",
            "    (2): Linear(in_features=512, out_features=512, bias=True)\n",
            "    (3): ReLU()\n",
            "    (4): Linear(in_features=512, out_features=10, bias=True)\n",
            "  )\n",
            ")\n"
          ]
        }
      ]
    },
    {
      "cell_type": "markdown",
      "source": [
        "## Optimizing the Model Parameters\n",
        "To train a model, we need a loss function and an optimizer."
      ],
      "metadata": {
        "id": "pCAZaQqAazal"
      }
    },
    {
      "cell_type": "code",
      "source": [
        "loss_fn = nn.CrossEntropyLoss()\n",
        "optimizer = torch.optim.SGD(model.parameters(),lr=1e-3)"
      ],
      "metadata": {
        "id": "hvftWBCna01n"
      },
      "execution_count": 13,
      "outputs": []
    },
    {
      "cell_type": "markdown",
      "source": [
        "In a single training loop, the model makes predictions on the training dataset (fed to it in batches), and backpropagates the prediction error to adjust the model’s parameters."
      ],
      "metadata": {
        "id": "jn0KkBBnbBr3"
      }
    },
    {
      "cell_type": "code",
      "source": [
        "def train(dataloader, model,loss_fn, optimzer):\n",
        "  size = len(dataloader.dataset)\n",
        "  model.train()\n",
        "  for batch , (X, y) in enumerate(dataloader):\n",
        "    X, y = X.to(device), y.to(device)\n",
        "\n",
        "    #Compute prediction error\n",
        "    pred = model(X)\n",
        "    loss = loss_fn(pred, y)\n",
        "\n",
        "    #backpropogation\n",
        "    loss.backward()\n",
        "    optimizer.step()\n",
        "    optimizer.zero_grad()\n",
        "\n",
        "    if batch %100 == 0:\n",
        "      loss, current = loss.item(), (batch+1)*len(X)\n",
        "      print(f\"loss:{loss:7f} [{current:5d}/{size:>5d}]\")"
      ],
      "metadata": {
        "id": "7K067EpsbEHH"
      },
      "execution_count": 14,
      "outputs": []
    },
    {
      "cell_type": "code",
      "source": [
        "def test(dataloader, model, loss_fn):\n",
        "    size = len(dataloader.dataset)\n",
        "    num_batches = len(dataloader)\n",
        "    model.eval()\n",
        "    test_loss, correct = 0, 0\n",
        "    with torch.no_grad():\n",
        "        for X, y in dataloader:\n",
        "            X, y = X.to(device), y.to(device)\n",
        "            pred = model(X)\n",
        "            test_loss += loss_fn(pred, y).item()\n",
        "            correct += (pred.argmax(1) == y).type(torch.float).sum().item()\n",
        "    test_loss /= num_batches\n",
        "    correct /= size\n",
        "    print(f\"Test Error: \\n Accuracy: {(100*correct):>0.1f}%, Avg loss: {test_loss:>8f} \\n\")"
      ],
      "metadata": {
        "id": "fIwUUJNRcb17"
      },
      "execution_count": 15,
      "outputs": []
    },
    {
      "cell_type": "markdown",
      "source": [
        "The training process is conducted over several iterations (epochs). During each epoch, the model learns parameters to make better predictions. We print the model’s accuracy and loss at each epoch; we’d like to see the accuracy increase and the loss decrease with every epoch."
      ],
      "metadata": {
        "id": "ClaQP3zXchYS"
      }
    },
    {
      "cell_type": "code",
      "source": [
        "epochs = 5\n",
        "\n",
        "for t in range(epochs):\n",
        "  print(f\"Epoch {t+1}\\n------------------------\")\n",
        "  train(train_dataloader, model,loss_fn, optimizer)\n",
        "  test(test_dataloader, model, loss_fn)\n",
        "\n",
        "print(\"Done!\")"
      ],
      "metadata": {
        "colab": {
          "base_uri": "https://localhost:8080/"
        },
        "id": "gKuARVkmch5u",
        "outputId": "3eb46e2b-7330-4a09-e1c9-f1bf474e06e5"
      },
      "execution_count": 17,
      "outputs": [
        {
          "output_type": "stream",
          "name": "stdout",
          "text": [
            "Epoch 1\n",
            "------------------------\n",
            "loss:2.304532 [   64/60000]\n",
            "loss:2.289857 [ 6464/60000]\n",
            "loss:2.269620 [12864/60000]\n",
            "loss:2.265147 [19264/60000]\n",
            "loss:2.238503 [25664/60000]\n",
            "loss:2.215836 [32064/60000]\n",
            "loss:2.222673 [38464/60000]\n",
            "loss:2.188067 [44864/60000]\n",
            "loss:2.180319 [51264/60000]\n",
            "loss:2.143541 [57664/60000]\n",
            "Test Error: \n",
            " Accuracy: 42.8%, Avg loss: 2.141984 \n",
            "\n",
            "Epoch 2\n",
            "------------------------\n",
            "loss:2.156656 [   64/60000]\n",
            "loss:2.143682 [ 6464/60000]\n",
            "loss:2.087671 [12864/60000]\n",
            "loss:2.104527 [19264/60000]\n",
            "loss:2.038887 [25664/60000]\n",
            "loss:1.985150 [32064/60000]\n",
            "loss:2.010131 [38464/60000]\n",
            "loss:1.924928 [44864/60000]\n",
            "loss:1.926612 [51264/60000]\n",
            "loss:1.855635 [57664/60000]\n",
            "Test Error: \n",
            " Accuracy: 49.8%, Avg loss: 1.855386 \n",
            "\n",
            "Epoch 3\n",
            "------------------------\n",
            "loss:1.889915 [   64/60000]\n",
            "loss:1.858770 [ 6464/60000]\n",
            "loss:1.742885 [12864/60000]\n",
            "loss:1.789586 [19264/60000]\n",
            "loss:1.664247 [25664/60000]\n",
            "loss:1.622648 [32064/60000]\n",
            "loss:1.645928 [38464/60000]\n",
            "loss:1.539350 [44864/60000]\n",
            "loss:1.565821 [51264/60000]\n",
            "loss:1.467914 [57664/60000]\n",
            "Test Error: \n",
            " Accuracy: 57.7%, Avg loss: 1.486301 \n",
            "\n",
            "Epoch 4\n",
            "------------------------\n",
            "loss:1.551932 [   64/60000]\n",
            "loss:1.517830 [ 6464/60000]\n",
            "loss:1.373217 [12864/60000]\n",
            "loss:1.455762 [19264/60000]\n",
            "loss:1.326518 [25664/60000]\n",
            "loss:1.329229 [32064/60000]\n",
            "loss:1.349283 [38464/60000]\n",
            "loss:1.261216 [44864/60000]\n",
            "loss:1.301905 [51264/60000]\n",
            "loss:1.213712 [57664/60000]\n",
            "Test Error: \n",
            " Accuracy: 61.9%, Avg loss: 1.235104 \n",
            "\n",
            "Epoch 5\n",
            "------------------------\n",
            "loss:1.312645 [   64/60000]\n",
            "loss:1.288555 [ 6464/60000]\n",
            "loss:1.131284 [12864/60000]\n",
            "loss:1.247545 [19264/60000]\n",
            "loss:1.115518 [25664/60000]\n",
            "loss:1.145356 [32064/60000]\n",
            "loss:1.175653 [38464/60000]\n",
            "loss:1.093764 [44864/60000]\n",
            "loss:1.141286 [51264/60000]\n",
            "loss:1.067588 [57664/60000]\n",
            "Test Error: \n",
            " Accuracy: 64.0%, Avg loss: 1.081721 \n",
            "\n",
            "Done!\n"
          ]
        }
      ]
    },
    {
      "cell_type": "markdown",
      "source": [
        "## Saving Models\n",
        "A common way to save a model is to serialize the internal state dictionary (containing the model parameters)."
      ],
      "metadata": {
        "id": "U5C1agAKdBXJ"
      }
    },
    {
      "cell_type": "code",
      "source": [
        "torch.save(model.state_dict(),\"model.pth\")\n",
        "print(\"Saved Pytorch Model State\")"
      ],
      "metadata": {
        "colab": {
          "base_uri": "https://localhost:8080/"
        },
        "id": "JmuzVKpFdEyS",
        "outputId": "7e1d44f0-bf7c-443c-c24b-6f7d6c65790a"
      },
      "execution_count": 18,
      "outputs": [
        {
          "output_type": "stream",
          "name": "stdout",
          "text": [
            "Saved Pytorch Model State\n"
          ]
        }
      ]
    },
    {
      "cell_type": "markdown",
      "source": [
        "## Loading Models\n",
        "The process for loading a model includes re-creating the model structure and loading the state dictionary into it."
      ],
      "metadata": {
        "id": "3m2NbzgEddAt"
      }
    },
    {
      "cell_type": "code",
      "source": [
        "model = NeuralNetwork().to(device)\n",
        "model.load_state_dict(torch.load(\"model.pth\"))"
      ],
      "metadata": {
        "colab": {
          "base_uri": "https://localhost:8080/"
        },
        "id": "KmrN63NQdfEH",
        "outputId": "8ea9cc5c-5fd8-49e8-adad-7d70b3c9ef54"
      },
      "execution_count": 19,
      "outputs": [
        {
          "output_type": "execute_result",
          "data": {
            "text/plain": [
              "<All keys matched successfully>"
            ]
          },
          "metadata": {},
          "execution_count": 19
        }
      ]
    },
    {
      "cell_type": "code",
      "source": [
        "classes = [\n",
        "    \"T-shirt/top\",\n",
        "    \"Trouser\",\n",
        "    \"Pullover\",\n",
        "    \"Dress\",\n",
        "    \"Coat\",\n",
        "    \"Sandal\",\n",
        "    \"Shirt\",\n",
        "    \"Sneaker\",\n",
        "    \"Bag\",\n",
        "    \"Ankle boot\",\n",
        "]\n",
        "\n",
        "model.eval()\n",
        "x, y = test_data[0][0], test_data[0][1]\n",
        "with torch.no_grad():\n",
        "    x = x.to(device)\n",
        "    pred = model(x)\n",
        "    predicted, actual = classes[pred[0].argmax(0)], classes[y]\n",
        "    print(f'Predicted: \"{predicted}\", Actual: \"{actual}\"')"
      ],
      "metadata": {
        "colab": {
          "base_uri": "https://localhost:8080/"
        },
        "id": "e40pXa75dmei",
        "outputId": "225b3c29-926a-4a5c-aea3-0fedbd6b4581"
      },
      "execution_count": 21,
      "outputs": [
        {
          "output_type": "stream",
          "name": "stdout",
          "text": [
            "Predicted: \"Ankle boot\", Actual: \"Ankle boot\"\n"
          ]
        }
      ]
    }
  ]
}