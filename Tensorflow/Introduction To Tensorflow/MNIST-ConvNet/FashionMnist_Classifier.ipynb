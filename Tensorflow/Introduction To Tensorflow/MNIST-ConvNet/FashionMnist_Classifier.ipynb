{
  "nbformat": 4,
  "nbformat_minor": 0,
  "metadata": {
    "colab": {
      "provenance": []
    },
    "kernelspec": {
      "name": "python3",
      "display_name": "Python 3"
    },
    "language_info": {
      "name": "python"
    }
  },
  "cells": [
    {
      "cell_type": "markdown",
      "source": [
        "In this Example we will deep dive further Machine Learning and Deep learning. We will build what is called a **Computer Vision** task. Through this we can classifiy and predict images  that we feed as input.\n",
        "\n"
      ],
      "metadata": {
        "id": "EyH7JifwV1Td"
      }
    },
    {
      "cell_type": "code",
      "source": [
        "import tensorflow as tf\n",
        "import numpy as np\n",
        "from tensorflow import keras\n",
        "print(tf.__version__)"
      ],
      "metadata": {
        "colab": {
          "base_uri": "https://localhost:8080/"
        },
        "id": "R3ac4OgCW5M0",
        "outputId": "fb354ed8-df4d-4960-e865-7b99ad16e66d"
      },
      "execution_count": 1,
      "outputs": [
        {
          "output_type": "stream",
          "name": "stdout",
          "text": [
            "2.15.0\n"
          ]
        }
      ]
    },
    {
      "cell_type": "markdown",
      "source": [
        "For this notebook we will use [Fasshion MNIST](https://github.com/zalandoresearch/fashion-mnist) dataset. This Dataset contains over **75 Thousand** examples , of which **60 Thousand** is Training dataset and rest **15 Thousand** is test set. The Images are all of `28x28` dimensions with 10 classes. Lets get the data."
      ],
      "metadata": {
        "id": "cE5NmYeIXFzR"
      }
    },
    {
      "cell_type": "code",
      "source": [
        "fashionMnist = tf.keras.datasets.fashion_mnist\n",
        "(train_images,train_labels), (test_images, test_labels) = fashionMnist.load_data()"
      ],
      "metadata": {
        "colab": {
          "base_uri": "https://localhost:8080/"
        },
        "id": "DQgCWscNXGMD",
        "outputId": "007e25c5-d04e-4bd7-8c1c-e4107d4769df"
      },
      "execution_count": 2,
      "outputs": [
        {
          "output_type": "stream",
          "name": "stdout",
          "text": [
            "Downloading data from https://storage.googleapis.com/tensorflow/tf-keras-datasets/train-labels-idx1-ubyte.gz\n",
            "29515/29515 [==============================] - 0s 0us/step\n",
            "Downloading data from https://storage.googleapis.com/tensorflow/tf-keras-datasets/train-images-idx3-ubyte.gz\n",
            "26421880/26421880 [==============================] - 2s 0us/step\n",
            "Downloading data from https://storage.googleapis.com/tensorflow/tf-keras-datasets/t10k-labels-idx1-ubyte.gz\n",
            "5148/5148 [==============================] - 0s 0us/step\n",
            "Downloading data from https://storage.googleapis.com/tensorflow/tf-keras-datasets/t10k-images-idx3-ubyte.gz\n",
            "4422102/4422102 [==============================] - 1s 0us/step\n"
          ]
        }
      ]
    },
    {
      "cell_type": "code",
      "source": [
        "import matplotlib.pyplot as plt\n",
        "\n",
        "\n",
        "index = 8\n",
        "\n",
        "#Set number of charecter per row when printing\n",
        "np.set_printoptions(linewidth=320)\n",
        "\n",
        "#print label\n",
        "print(f'LABEL:{train_labels[index]}')\n",
        "print(f'\\nIMAGE PIXEL ARRAY:\\n {train_images[index]}')\n",
        "\n",
        "plt.imshow(train_images[index], cmap='Greys')"
      ],
      "metadata": {
        "colab": {
          "base_uri": "https://localhost:8080/",
          "height": 985
        },
        "id": "qIYQCok0b7U2",
        "outputId": "3e576cfe-9814-403d-c4b1-3ff059514d83"
      },
      "execution_count": 6,
      "outputs": [
        {
          "output_type": "stream",
          "name": "stdout",
          "text": [
            "LABEL:5\n",
            "\n",
            "IMAGE PIXEL ARRAY:\n",
            " [[  0   0   0   0   0   0   0   0   0   0   0   0   0   0   0   0   0   0   0   0   0   0   0   0   0   0   0   0]\n",
            " [  0   0   0   0   0   0   0   0   0   0   0   0   0   0   0   0   0   0   0   0   0   0   0   0   0   0   0   0]\n",
            " [  0   0   0   0   0   0   0   0   0   0   0   0   1   3   1   0   0   1   1   0   0   0   0  58   0  39   1   0]\n",
            " [  0   0   0   0   0   0   0   0   0   0   0   0   1   3   0   0   0   0   0   0   0  64 109 146 192 193   7   0]\n",
            " [  0   0   0   0   0   0   0   0   0   1   0   0   0   0   0   0  94  38  99 209 183 229 192 142  48   0   0   0]\n",
            " [  0   0   0   0   0   0   0   0   0   1   0   0   0   0  41  45 158 146 164 114  51   1  53 105  42  36   0   0]\n",
            " [  0   0   0   0   0   0   0   0   0   0   0   0  10  68  44  30  59 172 146   0  22   0  13 103 111 103   0   0]\n",
            " [  0   0   0   0   0   0   0   0   0   3   1   0  22  61  88 152 255  71   0   0   0   0  35  85 112 201  44   0]\n",
            " [  0   0   0   0   0   0   0   0   0   1   0   0  13  62 154  62   0   0   0   0   0   0  54  99  61 106  51  19]\n",
            " [  0   0   0   0   0   0   0   0   0   0   0   0   0   0   0   0   9   1   0   0   1   0  79  82  47  33  58  50]\n",
            " [  0   0   0   0   0   0   0   0   0   0   0   0   0   3   1   3   9   3   0   0   1   0 100  88  48  35  70  54]\n",
            " [  0   0   0   0   0   0   0   0   0   0   0   0   0   0   0   0   0   3   0   1   0   0 111 195 119  29  58  45]\n",
            " [  0   0   0   0   0   0   0   1   0   0   0   0   0   0   0   0   0   0   3   3   0   0  91 146 171  16  93  35]\n",
            " [  0   0   0   0   0   0   0   0   0   0   0   0   0   0   0   0   0   0   0   0   0  48  45   3  79  87  99   6]\n",
            " [  0   0   0   0   0   0   0   0   0   0   0   0   0   0   0   0   0   3   0   0 119 137  33  96  77  13  45   0]\n",
            " [  0   0   0   0   0   0   0   0   0   0   0   0   0   0   0   0   0   0  32 160 164 142 116  79  82  39  39   0]\n",
            " [  0   0   0   0   3   0   0   0   0   0   0   0   0   3   4  10   0  41 180 142 171   1   0   0  48  73  16   0]\n",
            " [  0   0   0   0   0   0   1   1   0   0   0   0   0   0   3   0  27 155 114 169   0   0   0   0  47  76   6   0]\n",
            " [  0   0   0   0   0   0   0   0   0   0   0   0   1   0   0   0 155 129 160   0   0   0   0   0  45  96   0   0]\n",
            " [  0   0   0   0   1   0  16  39  64   0   0   0   0   0   0 129 151 175   0   0   0   4   4   0  48 116   0   0]\n",
            " [  0   0   0   0   0   0  58  87  73  10   0   0   0   0  27 187 195   0   0   0   0   3   1   0  47 146   0   0]\n",
            " [  1   0   0   0   1   0   0   0   0   0   0   0   0   0 181 225  45   0   0   0   0   0   1   0  45 186   0   0]\n",
            " [  0   0   0   0   0   0   1 183 210  90   0   0   0 126 253 142   0   0   0   0   0   0   1   0  48 203   0   0]\n",
            " [ 64  58  45  27  16   9   1 175 245 204  22   0  70 236 190   6   0   0   0   0   0   0   0   0  50 196   0   0]\n",
            " [ 96 128 149 163 158 140 138 146 154 108  90 148 193 177  36   0   7   0   0   0   0   0   0   0  41 125   0   0]\n",
            " [  0   0   0   0  19  47  65  93  94 125 166 180 119  29   0   0   0   0   0   0   0   0   0   0  32 238   0   0]\n",
            " [  0   0   0   0   0   0   0   0   0   0   0   0   0   0   0   0   0   0   0   0   0   0   0   0   0 131   0   0]\n",
            " [  0   0   0   0   0   0   0   0   0   0   0   0   0   0   0   0   0   0   0   0   0   0   0   0   0   0   0   0]]\n"
          ]
        },
        {
          "output_type": "execute_result",
          "data": {
            "text/plain": [
              "<matplotlib.image.AxesImage at 0x79cd6dbae5f0>"
            ]
          },
          "metadata": {},
          "execution_count": 6
        },
        {
          "output_type": "display_data",
          "data": {
            "text/plain": [
              "<Figure size 640x480 with 1 Axes>"
            ],
            "image/png": "[encoded data removed]"
          },
          "metadata": {}
        }
      ]
    },
    {
      "cell_type": "markdown",
      "source": [
        "As we can see these images are uniform , that is there values vary differntly for each image. So in order to have a uniform dataset, we will **normalize** the entire dataset from the value `0 to 255`."
      ],
      "metadata": {
        "id": "Yi6hyIYrfYPP"
      }
    },
    {
      "cell_type": "code",
      "source": [
        "train_images = train_images/255.0\n",
        "test_images = test_images/255.0"
      ],
      "metadata": {
        "id": "88V7fiWSfq68"
      },
      "execution_count": 7,
      "outputs": []
    },
    {
      "cell_type": "markdown",
      "source": [
        "Without further due lets build our neural network."
      ],
      "metadata": {
        "id": "ryhQ-PieX_0A"
      }
    },
    {
      "cell_type": "code",
      "source": [
        "model = keras.Sequential([\n",
        "    keras.layers.Flatten(input_shape=(28,28)),\n",
        "    keras.layers.Dense(128, activation=tf.nn.relu),\n",
        "    keras.layers.Dense(10,activation=tf.nn.softmax)\n",
        "])\n",
        "\n",
        "model.summary()"
      ],
      "metadata": {
        "colab": {
          "base_uri": "https://localhost:8080/"
        },
        "id": "L-ZNpc9zYHg8",
        "outputId": "4fb9a4b0-fb29-4c46-e3db-66c3366d1503"
      },
      "execution_count": 3,
      "outputs": [
        {
          "output_type": "stream",
          "name": "stdout",
          "text": [
            "Model: \"sequential\"\n",
            "_________________________________________________________________\n",
            " Layer (type)                Output Shape              Param #   \n",
            "=================================================================\n",
            " flatten (Flatten)           (None, 784)               0         \n",
            "                                                                 \n",
            " dense (Dense)               (None, 128)               100480    \n",
            "                                                                 \n",
            " dense_1 (Dense)             (None, 10)                1290      \n",
            "                                                                 \n",
            "=================================================================\n",
            "Total params: 101770 (397.54 KB)\n",
            "Trainable params: 101770 (397.54 KB)\n",
            "Non-trainable params: 0 (0.00 Byte)\n",
            "_________________________________________________________________\n"
          ]
        }
      ]
    },
    {
      "cell_type": "markdown",
      "source": [
        "Now for this example , there is a lot changes from previous examples.\n",
        "1. Since our source data is an image of size `28x28` . But our neural network does not know how to read image data. So we will convert a `3x3x3` [This is due to the fact that images are compirsed of Layers of red blue and green]style image into `1x784`.This can be achieved using **Flatten** function from keras.\n",
        "This will output a matrix of size 1x784 as shown above.\n",
        "\n",
        "2. Once we have done this, we will do our usual **Dense** layer to compress the values from `1x784` to `1x128`. This can done using a **Activation Function**. An Activation function takes the output from neuron and regualirezs it from a value of `0 to 1`. Here we are using two activation functions : **relu** and **softmax** . These two are the most commonly use activation functions.\n",
        "\n",
        "3. The Output of the last layer is `1x10` and contains value from 1-9. This will be used to predict."
      ],
      "metadata": {
        "id": "hc_L4tvnYbpz"
      }
    },
    {
      "cell_type": "code",
      "source": [
        "model.compile(optimizer=tf.keras.optimizers.Adam(),\n",
        "              loss='sparse_categorical_crossentropy',\n",
        "              metrics=['accuracy'])"
      ],
      "metadata": {
        "id": "9MCaKqMga0B3"
      },
      "execution_count": 9,
      "outputs": []
    },
    {
      "cell_type": "markdown",
      "source": [
        "Here we are using a\n",
        "1. [Adam optmizer](https://www.tensorflow.org/api_docs/python/tf/keras/optimizers/Adam)\n",
        "2. [Sparse categorical cross entropy](https://www.tensorflow.org/api_docs/python/tf/keras/losses/SparseCategoricalCrossentropy)"
      ],
      "metadata": {
        "id": "gkVaApSBgblh"
      }
    },
    {
      "cell_type": "code",
      "source": [
        "model.fit(train_images, train_labels, epochs=5)"
      ],
      "metadata": {
        "colab": {
          "base_uri": "https://localhost:8080/"
        },
        "id": "ERAEA4Oygxl3",
        "outputId": "7772ac2e-b2ae-40f2-c80d-169360225977"
      },
      "execution_count": 10,
      "outputs": [
        {
          "output_type": "stream",
          "name": "stdout",
          "text": [
            "Epoch 1/5\n",
            "1875/1875 [==============================] - 8s 4ms/step - loss: 0.4982 - accuracy: 0.8258\n",
            "Epoch 2/5\n",
            "1875/1875 [==============================] - 8s 4ms/step - loss: 0.3788 - accuracy: 0.8639\n",
            "Epoch 3/5\n",
            "1875/1875 [==============================] - 8s 4ms/step - loss: 0.3367 - accuracy: 0.8767\n",
            "Epoch 4/5\n",
            "1875/1875 [==============================] - 7s 4ms/step - loss: 0.3137 - accuracy: 0.8846\n",
            "Epoch 5/5\n",
            "1875/1875 [==============================] - 13s 7ms/step - loss: 0.2956 - accuracy: 0.8906\n"
          ]
        },
        {
          "output_type": "execute_result",
          "data": {
            "text/plain": [
              "<keras.src.callbacks.History at 0x79cd6da2e7d0>"
            ]
          },
          "metadata": {},
          "execution_count": 10
        }
      ]
    },
    {
      "cell_type": "markdown",
      "source": [
        "We will evaluate our image using the test labels."
      ],
      "metadata": {
        "id": "0E4EkbC3g94W"
      }
    },
    {
      "cell_type": "code",
      "source": [
        "model.evaluate(test_images, test_labels)"
      ],
      "metadata": {
        "colab": {
          "base_uri": "https://localhost:8080/"
        },
        "id": "ZD8fjV2IhBoT",
        "outputId": "81bd37dd-7741-4db8-a585-d8e824cc04ef"
      },
      "execution_count": 11,
      "outputs": [
        {
          "output_type": "stream",
          "name": "stdout",
          "text": [
            "313/313 [==============================] - 1s 2ms/step - loss: 0.3528 - accuracy: 0.8730\n"
          ]
        },
        {
          "output_type": "execute_result",
          "data": {
            "text/plain": [
              "[0.3527677059173584, 0.8730000257492065]"
            ]
          },
          "metadata": {},
          "execution_count": 11
        }
      ]
    },
    {
      "cell_type": "markdown",
      "source": [
        "We can also change the epochs so that the epochs change until the set efficiency is met. This is done using Callbacks()."
      ],
      "metadata": {
        "id": "TOaljRNKh1oT"
      }
    },
    {
      "cell_type": "code",
      "source": [
        "class myCallback(tf.keras.callbacks.Callback):\n",
        "  def on_epoch_end(self, epoch, logs={}):\n",
        "    '''\n",
        "    Halts the training after reaching 60 percent accuracy\n",
        "\n",
        "    Args:\n",
        "      epoch (integer) - index of epoch (required but unused in the function definition below)\n",
        "      logs (dict) - metric results from the training epoch\n",
        "    '''\n",
        "\n",
        "    # Check accuracy\n",
        "    if(logs.get('loss') < 0.2):\n",
        "\n",
        "      # Stop if threshold is met\n",
        "      print(\"\\nLoss is lower than 0.4 so cancelling training!\")\n",
        "      self.model.stop_training = True\n",
        "\n",
        "# Instantiate class\n",
        "callbacks = myCallback()"
      ],
      "metadata": {
        "id": "AdxnveDKh9kZ"
      },
      "execution_count": 15,
      "outputs": []
    },
    {
      "cell_type": "code",
      "source": [
        "# Train the model with a callback\n",
        "model.fit(train_images, train_labels, epochs=10, callbacks=[callbacks])"
      ],
      "metadata": {
        "colab": {
          "base_uri": "https://localhost:8080/"
        },
        "id": "lT_yaDjIhr91",
        "outputId": "77ea36b1-716f-489f-bde5-24310d5d1eea"
      },
      "execution_count": 16,
      "outputs": [
        {
          "output_type": "stream",
          "name": "stdout",
          "text": [
            "Epoch 1/10\n",
            "1875/1875 [==============================] - 6s 3ms/step - loss: 0.2683 - accuracy: 0.8999\n",
            "Epoch 2/10\n",
            "1875/1875 [==============================] - 7s 4ms/step - loss: 0.2572 - accuracy: 0.9047\n",
            "Epoch 3/10\n",
            "1875/1875 [==============================] - 6s 3ms/step - loss: 0.2482 - accuracy: 0.9065\n",
            "Epoch 4/10\n",
            "1875/1875 [==============================] - 7s 4ms/step - loss: 0.2396 - accuracy: 0.9105\n",
            "Epoch 5/10\n",
            "1875/1875 [==============================] - 6s 3ms/step - loss: 0.2330 - accuracy: 0.9130\n",
            "Epoch 6/10\n",
            "1875/1875 [==============================] - 7s 4ms/step - loss: 0.2255 - accuracy: 0.9148\n",
            "Epoch 7/10\n",
            "1875/1875 [==============================] - 6s 3ms/step - loss: 0.2181 - accuracy: 0.9186\n",
            "Epoch 8/10\n",
            "1875/1875 [==============================] - 6s 3ms/step - loss: 0.2120 - accuracy: 0.9208\n",
            "Epoch 9/10\n",
            "1875/1875 [==============================] - 7s 4ms/step - loss: 0.2053 - accuracy: 0.9235\n",
            "Epoch 10/10\n",
            "1875/1875 [==============================] - 6s 3ms/step - loss: 0.2010 - accuracy: 0.9244\n"
          ]
        },
        {
          "output_type": "execute_result",
          "data": {
            "text/plain": [
              "<keras.src.callbacks.History at 0x79cd6da2cbb0>"
            ]
          },
          "metadata": {},
          "execution_count": 16
        }
      ]
    },
    {
      "cell_type": "code",
      "source": [
        "model.evaluate(test_images, test_labels)"
      ],
      "metadata": {
        "colab": {
          "base_uri": "https://localhost:8080/"
        },
        "id": "_gERbP0-i3FB",
        "outputId": "61b1f287-4fdd-476b-953b-915b3d2c7977"
      },
      "execution_count": 17,
      "outputs": [
        {
          "output_type": "stream",
          "name": "stdout",
          "text": [
            "313/313 [==============================] - 1s 2ms/step - loss: 0.3442 - accuracy: 0.8904\n"
          ]
        },
        {
          "output_type": "execute_result",
          "data": {
            "text/plain": [
              "[0.3441849946975708, 0.8903999924659729]"
            ]
          },
          "metadata": {},
          "execution_count": 17
        }
      ]
    }
  ]
}